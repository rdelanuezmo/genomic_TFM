{
 "cells": [
  {
   "cell_type": "code",
   "execution_count": 1,
   "id": "5f1f7d6f",
   "metadata": {},
   "outputs": [],
   "source": [
    "# Importa las bibliotecas necesarias\n",
    "from pyspark.sql import SparkSession\n",
    "\n",
    "# Crea una instancia de SparkSession\n",
    "spark = SparkSession.builder.appName(\"Ejemplo\").getOrCreate()\n",
    "\n",
    "# Reemplaza 'ruta/al/archivo.txt' con la ruta completa de tu archivo\n",
    "path_1 = 'generifs_basic\\generifs_basic.txt'\n",
    "#https://www.ncbi.nlm.nih.gov/gene/about-generif\n",
    "path_2 = 'hiv_interactions\\hiv_interactions.txt'\n",
    "path_3 = 'hiv_siRNA_interactions\\hiv_siRNA_interactions.txt'\n",
    "path_4 = 'interactions\\interactions.txt'\n",
    "\n",
    "\n",
    "# Lee el archivo de texto en un DataFrame\n",
    "df_gen_ba = spark.read.csv(path_1, header=True, inferSchema=True, sep='\\t')\n",
    "df_hiv_int = spark.read.csv(path_2, header=True, inferSchema=True, sep='\\t')\n",
    "df_hiv_sirna = spark.read.csv(path_3, header=True, inferSchema=True, sep='\\t')\n",
    "df_int = spark.read.csv(path_4, header=True, inferSchema=True, sep='\\t')\n",
    "\n",
    "# Muestra los primeros registros del DataFrame\n",
    "#df_gen_ba.show(vertical=True, truncate=False)\n",
    "#df_hiv_int.show(vertical=True, truncate=False)\n",
    "#df_hiv_sirna.show(vertical=True, truncate=False)\n",
    "#df_int.show(vertical=True, truncate=False)\n",
    "\n",
    "# Mostrar el campo de los comentarios\n",
    "#df_hiv_int.select(\"GeneRIF text\").show(truncate=False)\n",
    "#df_hiv_sirna.select(\"GeneRIF text\").show(truncate=False)\n"
   ]
  },
  {
   "cell_type": "code",
   "execution_count": 4,
   "id": "0f361443",
   "metadata": {},
   "outputs": [],
   "source": [
    "from pyspark.sql.functions import col, desc, count, countDistinct, explode, split, size"
   ]
  },
  {
   "cell_type": "code",
   "execution_count": 5,
   "id": "01a6f1c2",
   "metadata": {},
   "outputs": [],
   "source": [
    "path = 'biogrid\\BIOGRID-ALL-4.4.229.tab3.txt.txt'\n",
    "# Lee el archivo de texto en un DataFrame\n",
    "df_all = spark.read.csv(path, header=True, inferSchema=True, sep='\\t')"
   ]
  },
  {
   "cell_type": "code",
   "execution_count": 6,
   "id": "4d82a2ea",
   "metadata": {},
   "outputs": [],
   "source": [
    "df_homo_sapiens = df_all.where( (col('Organism Name Interactor A') == 'Homo sapiens') & (col('Organism Name Interactor B') == 'Homo sapiens') )"
   ]
  },
  {
   "cell_type": "code",
   "execution_count": 7,
   "id": "1f799052",
   "metadata": {},
   "outputs": [
    {
     "data": {
      "text/plain": [
       "1119345"
      ]
     },
     "execution_count": 7,
     "metadata": {},
     "output_type": "execute_result"
    }
   ],
   "source": [
    "df_homo_sapiens.count()"
   ]
  },
  {
   "cell_type": "code",
   "execution_count": 8,
   "id": "d1387173",
   "metadata": {},
   "outputs": [
    {
     "data": {
      "text/plain": [
       "4140525"
      ]
     },
     "execution_count": 8,
     "metadata": {},
     "output_type": "execute_result"
    }
   ],
   "source": [
    "df_int.count()"
   ]
  },
  {
   "cell_type": "code",
   "execution_count": 9,
   "id": "8fe73ae2",
   "metadata": {},
   "outputs": [
    {
     "name": "stdout",
     "output_type": "stream",
     "text": [
      "-RECORD 0--------------------------------------------------\n",
      " #BioGRID Interaction ID            | 103                  \n",
      " Entrez Gene Interactor A           | 6416                 \n",
      " Entrez Gene Interactor B           | 2318                 \n",
      " BioGRID ID Interactor A            | 112315               \n",
      " BioGRID ID Interactor B            | 108607               \n",
      " Systematic Name Interactor A       | -                    \n",
      " Systematic Name Interactor B       | -                    \n",
      " Official Symbol Interactor A       | MAP2K4               \n",
      " Official Symbol Interactor B       | FLNC                 \n",
      " Synonyms Interactor A              | JNKK|JNKK1|MAPKK4... \n",
      " Synonyms Interactor B              | ABP-280|ABP280A|A... \n",
      " Experimental System                | Two-hybrid           \n",
      " Experimental System Type           | physical             \n",
      " Author                             | Marti A (1997)       \n",
      " Publication Source                 | PUBMED:9006895       \n",
      " Organism ID Interactor A           | 9606                 \n",
      " Organism ID Interactor B           | 9606                 \n",
      " Throughput                         | Low Throughput       \n",
      " Score                              | -                    \n",
      " Modification                       | -                    \n",
      " Qualifications                     | -                    \n",
      " Tags                               | -                    \n",
      " Source Database                    | BIOGRID              \n",
      " SWISS-PROT Accessions Interactor A | P45985               \n",
      " TREMBL Accessions Interactor A     | -                    \n",
      " REFSEQ Accessions Interactor A     | NP_003001|NP_0012... \n",
      " SWISS-PROT Accessions Interactor B | Q14315               \n",
      " TREMBL Accessions Interactor B     | Q59H94               \n",
      " REFSEQ Accessions Interactor B     | NP_001120959|NP_0... \n",
      " Ontology Term IDs                  | -                    \n",
      " Ontology Term Names                | -                    \n",
      " Ontology Term Categories           | -                    \n",
      " Ontology Term Qualifier IDs        | -                    \n",
      " Ontology Term Qualifier Names      | -                    \n",
      " Ontology Term Types                | -                    \n",
      " Organism Name Interactor A         | Homo sapiens         \n",
      " Organism Name Interactor B         | Homo sapiens         \n",
      "-RECORD 1--------------------------------------------------\n",
      " #BioGRID Interaction ID            | 117                  \n",
      " Entrez Gene Interactor A           | 84665                \n",
      " Entrez Gene Interactor B           | 88                   \n",
      " BioGRID ID Interactor A            | 124185               \n",
      " BioGRID ID Interactor B            | 106603               \n",
      " Systematic Name Interactor A       | -                    \n",
      " Systematic Name Interactor B       | -                    \n",
      " Official Symbol Interactor A       | MYPN                 \n",
      " Official Symbol Interactor B       | ACTN2                \n",
      " Synonyms Interactor A              | CMD1DD|CMH22|MYOP... \n",
      " Synonyms Interactor B              | CMD1AA               \n",
      " Experimental System                | Two-hybrid           \n",
      " Experimental System Type           | physical             \n",
      " Author                             | Bang ML (2001)       \n",
      " Publication Source                 | PUBMED:11309420      \n",
      " Organism ID Interactor A           | 9606                 \n",
      " Organism ID Interactor B           | 9606                 \n",
      " Throughput                         | Low Throughput       \n",
      " Score                              | -                    \n",
      " Modification                       | -                    \n",
      " Qualifications                     | -                    \n",
      " Tags                               | -                    \n",
      " Source Database                    | BIOGRID              \n",
      " SWISS-PROT Accessions Interactor A | Q86TC9               \n",
      " TREMBL Accessions Interactor A     | A0A087WX60           \n",
      " REFSEQ Accessions Interactor A     | NP_001243197|NP_0... \n",
      " SWISS-PROT Accessions Interactor B | P35609               \n",
      " TREMBL Accessions Interactor B     | Q59FD9|F6THM6        \n",
      " REFSEQ Accessions Interactor B     | NP_001094|NP_0012... \n",
      " Ontology Term IDs                  | -                    \n",
      " Ontology Term Names                | -                    \n",
      " Ontology Term Categories           | -                    \n",
      " Ontology Term Qualifier IDs        | -                    \n",
      " Ontology Term Qualifier Names      | -                    \n",
      " Ontology Term Types                | -                    \n",
      " Organism Name Interactor A         | Homo sapiens         \n",
      " Organism Name Interactor B         | Homo sapiens         \n",
      "only showing top 2 rows\n",
      "\n"
     ]
    }
   ],
   "source": [
    "df_homo_sapiens.show(2, vertical = True)"
   ]
  },
  {
   "cell_type": "code",
   "execution_count": 10,
   "id": "ef4395fb",
   "metadata": {},
   "outputs": [
    {
     "name": "stdout",
     "output_type": "stream",
     "text": [
      "-RECORD 0-----------------------------------\n",
      " #tax_id             | 358                  \n",
      " gene_id             | 1224321              \n",
      " accn.vers2          | NP_059802.1          \n",
      " name3               | hypothetical prot... \n",
      " keyphrase           | -                    \n",
      " tax_id              | -                    \n",
      " interactant_id      | -                    \n",
      " interactant_id_type | -                    \n",
      " accn.vers8          | AE008690.1           \n",
      " name9               | Agrobacterium tum... \n",
      " complex_id          | -                    \n",
      " complex_id_type     | -                    \n",
      " complex_name        | -                    \n",
      " pubmed_id_list      | 15155952             \n",
      " last_mod            | 2005-01-18 14:45:00  \n",
      " generif_text        | VirB4 interacts w... \n",
      " interaction_id      | 134324               \n",
      " interaction_id_type | BIND                 \n",
      "-RECORD 1-----------------------------------\n",
      " #tax_id             | 358                  \n",
      " gene_id             | 1224322              \n",
      " accn.vers2          | NP_059803.1          \n",
      " name3               | hypothetical prot... \n",
      " keyphrase           | -                    \n",
      " tax_id              | -                    \n",
      " interactant_id      | -                    \n",
      " interactant_id_type | -                    \n",
      " accn.vers8          | AE008690.1           \n",
      " name9               | Agrobacterium tum... \n",
      " complex_id          | -                    \n",
      " complex_id_type     | -                    \n",
      " complex_name        | -                    \n",
      " pubmed_id_list      | 15155952             \n",
      " last_mod            | 2005-01-18 14:45:00  \n",
      " generif_text        | VirB5 interacts w... \n",
      " interaction_id      | 134323               \n",
      " interaction_id_type | BIND                 \n",
      "only showing top 2 rows\n",
      "\n"
     ]
    }
   ],
   "source": [
    "df_int.show(2, vertical = True)"
   ]
  },
  {
   "cell_type": "code",
   "execution_count": 11,
   "id": "ea9e3d62",
   "metadata": {},
   "outputs": [],
   "source": [
    "resultado = df_int.join(df_homo_sapiens, (df_int[\"gene_id\"] == df_homo_sapiens[\"Entrez Gene Interactor A\"])\\\n",
    "                        & (df_int[\"interactant_id\"] == df_homo_sapiens[\"Entrez Gene Interactor B\"]), \"inner\")"
   ]
  },
  {
   "cell_type": "code",
   "execution_count": 12,
   "id": "d87f04da",
   "metadata": {},
   "outputs": [
    {
     "data": {
      "text/plain": [
       "1308840"
      ]
     },
     "execution_count": 12,
     "metadata": {},
     "output_type": "execute_result"
    }
   ],
   "source": [
    "resultado.count()"
   ]
  },
  {
   "cell_type": "code",
   "execution_count": 13,
   "id": "060f8665",
   "metadata": {},
   "outputs": [
    {
     "name": "stdout",
     "output_type": "stream",
     "text": [
      "+-------------------+-------+\n",
      "|interaction_id_type| conteo|\n",
      "+-------------------+-------+\n",
      "|               BIND|  24423|\n",
      "|               HPRD|  93400|\n",
      "|            BioGRID|1191017|\n",
      "+-------------------+-------+\n",
      "\n"
     ]
    }
   ],
   "source": [
    "resultado.groupBy('interaction_id_type').agg(count('*').alias('conteo')).sort(col('conteo')).show()"
   ]
  },
  {
   "cell_type": "code",
   "execution_count": 14,
   "id": "e7cf579d",
   "metadata": {},
   "outputs": [
    {
     "name": "stdout",
     "output_type": "stream",
     "text": [
      "+------------------------+-------+\n",
      "|Experimental System Type| conteo|\n",
      "+------------------------+-------+\n",
      "|                 genetic|  25292|\n",
      "|                physical|1283548|\n",
      "+------------------------+-------+\n",
      "\n"
     ]
    }
   ],
   "source": [
    "resultado.groupBy('Experimental System Type').agg(count('*').alias('conteo')).sort(col('conteo')).show()"
   ]
  },
  {
   "cell_type": "code",
   "execution_count": 16,
   "id": "c8f06a36",
   "metadata": {},
   "outputs": [
    {
     "name": "stdout",
     "output_type": "stream",
     "text": [
      "-RECORD 0--------------------------------------------------\n",
      " #tax_id                            | 9606                 \n",
      " gene_id                            | 15                   \n",
      " accn.vers2                         | -                    \n",
      " name3                              | -                    \n",
      " keyphrase                          | -                    \n",
      " tax_id                             | 9606                 \n",
      " interactant_id                     | 6755                 \n",
      " interactant_id_type                | GeneID               \n",
      " accn.vers8                         | -                    \n",
      " name9                              | -                    \n",
      " complex_id                         | -                    \n",
      " complex_id_type                    | -                    \n",
      " complex_name                       | -                    \n",
      " pubmed_id_list                     | 28319085             \n",
      " last_mod                           | 2019-04-07 11:20:00  \n",
      " generif_text                       | Negative Genetic     \n",
      " interaction_id                     | 106533               \n",
      " interaction_id_type                | BioGRID              \n",
      " #BioGRID Interaction ID            | 2538081              \n",
      " Entrez Gene Interactor A           | 15                   \n",
      " Entrez Gene Interactor B           | 6755                 \n",
      " BioGRID ID Interactor A            | 106533               \n",
      " BioGRID ID Interactor B            | 112633               \n",
      " Systematic Name Interactor A       | -                    \n",
      " Systematic Name Interactor B       | -                    \n",
      " Official Symbol Interactor A       | AANAT                \n",
      " Official Symbol Interactor B       | SSTR5                \n",
      " Synonyms Interactor A              | DSPS|SNAT            \n",
      " Synonyms Interactor B              | SS-5-R               \n",
      " Experimental System                | Negative Genetic     \n",
      " Experimental System Type           | genetic              \n",
      " Author                             | Han K (2017)         \n",
      " Publication Source                 | PUBMED:28319085      \n",
      " Organism ID Interactor A           | 9606                 \n",
      " Organism ID Interactor B           | 9606                 \n",
      " Throughput                         | High Throughput      \n",
      " Score                              | -3.254               \n",
      " Modification                       | -                    \n",
      " Qualifications                     | CRISPR GI screen|... \n",
      " Tags                               | -                    \n",
      " Source Database                    | BIOGRID              \n",
      " SWISS-PROT Accessions Interactor A | Q16613               \n",
      " TREMBL Accessions Interactor A     | F1T0I5               \n",
      " REFSEQ Accessions Interactor A     | NP_001160051|NP_0... \n",
      " SWISS-PROT Accessions Interactor B | P35346               \n",
      " TREMBL Accessions Interactor B     | -                    \n",
      " REFSEQ Accessions Interactor B     | NP_001166031|NP_0... \n",
      " Ontology Term IDs                  | HP:0001507           \n",
      " Ontology Term Names                | Growth abnormality   \n",
      " Ontology Term Categories           | phenotype            \n",
      " Ontology Term Qualifier IDs        | -                    \n",
      " Ontology Term Qualifier Names      | -                    \n",
      " Ontology Term Types                | -                    \n",
      " Organism Name Interactor A         | Homo sapiens         \n",
      " Organism Name Interactor B         | Homo sapiens         \n",
      "-RECORD 1--------------------------------------------------\n",
      " #tax_id                            | 9606                 \n",
      " gene_id                            | 15                   \n",
      " accn.vers2                         | -                    \n",
      " name3                              | -                    \n",
      " keyphrase                          | -                    \n",
      " tax_id                             | 9606                 \n",
      " interactant_id                     | 6755                 \n",
      " interactant_id_type                | GeneID               \n",
      " accn.vers8                         | -                    \n",
      " name9                              | -                    \n",
      " complex_id                         | -                    \n",
      " complex_id_type                    | -                    \n",
      " complex_name                       | -                    \n",
      " pubmed_id_list                     | 28319085             \n",
      " last_mod                           | 2019-04-07 15:18:00  \n",
      " generif_text                       | Negative Genetic     \n",
      " interaction_id                     | 112633               \n",
      " interaction_id_type                | BioGRID              \n",
      " #BioGRID Interaction ID            | 2538081              \n",
      " Entrez Gene Interactor A           | 15                   \n",
      " Entrez Gene Interactor B           | 6755                 \n",
      " BioGRID ID Interactor A            | 106533               \n",
      " BioGRID ID Interactor B            | 112633               \n",
      " Systematic Name Interactor A       | -                    \n",
      " Systematic Name Interactor B       | -                    \n",
      " Official Symbol Interactor A       | AANAT                \n",
      " Official Symbol Interactor B       | SSTR5                \n",
      " Synonyms Interactor A              | DSPS|SNAT            \n",
      " Synonyms Interactor B              | SS-5-R               \n",
      " Experimental System                | Negative Genetic     \n",
      " Experimental System Type           | genetic              \n",
      " Author                             | Han K (2017)         \n",
      " Publication Source                 | PUBMED:28319085      \n",
      " Organism ID Interactor A           | 9606                 \n",
      " Organism ID Interactor B           | 9606                 \n",
      " Throughput                         | High Throughput      \n",
      " Score                              | -3.254               \n",
      " Modification                       | -                    \n",
      " Qualifications                     | CRISPR GI screen|... \n",
      " Tags                               | -                    \n",
      " Source Database                    | BIOGRID              \n",
      " SWISS-PROT Accessions Interactor A | Q16613               \n",
      " TREMBL Accessions Interactor A     | F1T0I5               \n",
      " REFSEQ Accessions Interactor A     | NP_001160051|NP_0... \n",
      " SWISS-PROT Accessions Interactor B | P35346               \n",
      " TREMBL Accessions Interactor B     | -                    \n",
      " REFSEQ Accessions Interactor B     | NP_001166031|NP_0... \n",
      " Ontology Term IDs                  | HP:0001507           \n",
      " Ontology Term Names                | Growth abnormality   \n",
      " Ontology Term Categories           | phenotype            \n",
      " Ontology Term Qualifier IDs        | -                    \n",
      " Ontology Term Qualifier Names      | -                    \n",
      " Ontology Term Types                | -                    \n",
      " Organism Name Interactor A         | Homo sapiens         \n",
      " Organism Name Interactor B         | Homo sapiens         \n",
      "only showing top 2 rows\n",
      "\n"
     ]
    }
   ],
   "source": [
    "resultado.where(col('Experimental System Type') == 'genetic').show(2, vertical = True)"
   ]
  },
  {
   "cell_type": "code",
   "execution_count": 15,
   "id": "2af9cfd9",
   "metadata": {},
   "outputs": [
    {
     "name": "stdout",
     "output_type": "stream",
     "text": [
      "+-----------------------+-----------------+\n",
      "|conteo_de_publicaciones|conteo_de_valores|\n",
      "+-----------------------+-----------------+\n",
      "|                      1|           885579|\n",
      "|                      2|           191501|\n",
      "|                      3|            90871|\n",
      "|                      4|            36523|\n",
      "|                      5|            22110|\n",
      "|                      6|            15352|\n",
      "|                      7|            11231|\n",
      "|                      8|             9529|\n",
      "|                      9|             6513|\n",
      "|                     10|             5348|\n",
      "|                     11|             3903|\n",
      "|                     12|             3635|\n",
      "|                     13|             2760|\n",
      "|                     14|             2105|\n",
      "|                     15|             1822|\n",
      "|                     16|             1483|\n",
      "|                     17|             1309|\n",
      "|                     18|             1131|\n",
      "|                     19|              981|\n",
      "|                     23|              834|\n",
      "+-----------------------+-----------------+\n",
      "only showing top 20 rows\n",
      "\n"
     ]
    }
   ],
   "source": [
    "df_con_conteo = resultado.withColumn(\"conteo_de_publicaciones\", size(split(col(\"pubmed_id_list\"), \",\")))\n",
    "conteo_valores = df_con_conteo.groupBy(\"conteo_de_publicaciones\").agg(count(\"*\").alias(\"conteo_de_valores\"))\n",
    "conteo_valores.sort(col('conteo_de_valores').desc()).show()"
   ]
  },
  {
   "cell_type": "code",
   "execution_count": 17,
   "id": "df02f043",
   "metadata": {},
   "outputs": [],
   "source": [
    "df_2 = df_con_conteo.where(~(col('conteo_de_publicaciones') == 1))"
   ]
  },
  {
   "cell_type": "code",
   "execution_count": 18,
   "id": "a63a189b",
   "metadata": {},
   "outputs": [
    {
     "data": {
      "text/plain": [
       "423261"
      ]
     },
     "execution_count": 18,
     "metadata": {},
     "output_type": "execute_result"
    }
   ],
   "source": [
    "df_2.count()"
   ]
  },
  {
   "cell_type": "code",
   "execution_count": 24,
   "id": "18f70eb1",
   "metadata": {},
   "outputs": [],
   "source": [
    "df_filtrado = df_2.drop_duplicates(['gene_id','interactant_id','Entrez Gene Interactor A','Entrez Gene Interactor B'])"
   ]
  },
  {
   "cell_type": "code",
   "execution_count": 25,
   "id": "22d34a4d",
   "metadata": {},
   "outputs": [
    {
     "data": {
      "text/plain": [
       "83592"
      ]
     },
     "execution_count": 25,
     "metadata": {},
     "output_type": "execute_result"
    }
   ],
   "source": [
    "df_filtrado.count()"
   ]
  },
  {
   "cell_type": "code",
   "execution_count": 22,
   "id": "47809502",
   "metadata": {},
   "outputs": [
    {
     "name": "stdout",
     "output_type": "stream",
     "text": [
      "-RECORD 0--------------------------------------------------\n",
      " #tax_id                            | 9606                 \n",
      " gene_id                            | 2                    \n",
      " accn.vers2                         | -                    \n",
      " name3                              | -                    \n",
      " keyphrase                          | -                    \n",
      " tax_id                             | 9606                 \n",
      " interactant_id                     | 56983                \n",
      " interactant_id_type                | GeneID               \n",
      " accn.vers8                         | -                    \n",
      " name9                              | -                    \n",
      " complex_id                         | -                    \n",
      " complex_id_type                    | -                    \n",
      " complex_name                       | -                    \n",
      " pubmed_id_list                     | 28514442,33961781    \n",
      " last_mod                           | 2021-11-07 10:23:00  \n",
      " generif_text                       | Affinity Capture-MS  \n",
      " interaction_id                     | 106524               \n",
      " interaction_id_type                | BioGRID              \n",
      " #BioGRID Interaction ID            | 2260538              \n",
      " Entrez Gene Interactor A           | 2                    \n",
      " Entrez Gene Interactor B           | 56983                \n",
      " BioGRID ID Interactor A            | 106524               \n",
      " BioGRID ID Interactor B            | 121300               \n",
      " Systematic Name Interactor A       | -                    \n",
      " Systematic Name Interactor B       | MDS010               \n",
      " Official Symbol Interactor A       | A2M                  \n",
      " Official Symbol Interactor B       | POGLUT1              \n",
      " Synonyms Interactor A              | A2MD|CPAMD5|FWP00... \n",
      " Synonyms Interactor B              | C3orf9|CLP46|KDEL... \n",
      " Experimental System                | Affinity Capture-MS  \n",
      " Experimental System Type           | physical             \n",
      " Author                             | Huttlin EL (2017)    \n",
      " Publication Source                 | PUBMED:28514442      \n",
      " Organism ID Interactor A           | 9606                 \n",
      " Organism ID Interactor B           | 9606                 \n",
      " Throughput                         | High Throughput      \n",
      " Score                              | 0.885331359          \n",
      " Modification                       | -                    \n",
      " Qualifications                     | BioPlex 2.0 HEK 2... \n",
      " Tags                               | -                    \n",
      " Source Database                    | BIOGRID              \n",
      " SWISS-PROT Accessions Interactor A | P01023               \n",
      " TREMBL Accessions Interactor A     | -                    \n",
      " REFSEQ Accessions Interactor A     | NP_000005            \n",
      " SWISS-PROT Accessions Interactor B | Q8NBL1               \n",
      " TREMBL Accessions Interactor B     | B4DJ97               \n",
      " REFSEQ Accessions Interactor B     | NP_689518            \n",
      " Ontology Term IDs                  | -                    \n",
      " Ontology Term Names                | -                    \n",
      " Ontology Term Categories           | -                    \n",
      " Ontology Term Qualifier IDs        | -                    \n",
      " Ontology Term Qualifier Names      | -                    \n",
      " Ontology Term Types                | -                    \n",
      " Organism Name Interactor A         | Homo sapiens         \n",
      " Organism Name Interactor B         | Homo sapiens         \n",
      " conteo_de_publicaciones            | 2                    \n",
      "-RECORD 1--------------------------------------------------\n",
      " #tax_id                            | 9606                 \n",
      " gene_id                            | 14                   \n",
      " accn.vers2                         | -                    \n",
      " name3                              | -                    \n",
      " keyphrase                          | -                    \n",
      " tax_id                             | 9606                 \n",
      " interactant_id                     | 51763                \n",
      " interactant_id_type                | GeneID               \n",
      " accn.vers8                         | -                    \n",
      " name9                              | -                    \n",
      " complex_id                         | -                    \n",
      " complex_id_type                    | -                    \n",
      " complex_name                       | -                    \n",
      " pubmed_id_list                     | 26186194,28514442... \n",
      " last_mod                           | 2021-11-07 09:59:00  \n",
      " generif_text                       | Affinity Capture-MS  \n",
      " interaction_id                     | 106532               \n",
      " interaction_id_type                | BioGRID              \n",
      " #BioGRID Interaction ID            | 1192978              \n",
      " Entrez Gene Interactor A           | 14                   \n",
      " Entrez Gene Interactor B           | 51763                \n",
      " BioGRID ID Interactor A            | 106532               \n",
      " BioGRID ID Interactor B            | 119720               \n",
      " Systematic Name Interactor A       | -                    \n",
      " Systematic Name Interactor B       | -                    \n",
      " Official Symbol Interactor A       | AAMP                 \n",
      " Official Symbol Interactor B       | INPP5K               \n",
      " Synonyms Interactor A              | -                    \n",
      " Synonyms Interactor B              | PPS|SKIP             \n",
      " Experimental System                | Affinity Capture-MS  \n",
      " Experimental System Type           | physical             \n",
      " Author                             | Huttlin EL (2015)    \n",
      " Publication Source                 | PUBMED:26186194      \n",
      " Organism ID Interactor A           | 9606                 \n",
      " Organism ID Interactor B           | 9606                 \n",
      " Throughput                         | High Throughput      \n",
      " Score                              | 0.998688712          \n",
      " Modification                       | -                    \n",
      " Qualifications                     | BioPlex 1.0 HEK 2... \n",
      " Tags                               | -                    \n",
      " Source Database                    | BIOGRID              \n",
      " SWISS-PROT Accessions Interactor A | Q13685               \n",
      " TREMBL Accessions Interactor A     | A0A024R410           \n",
      " REFSEQ Accessions Interactor A     | NP_001289474|NP_0... \n",
      " SWISS-PROT Accessions Interactor B | Q9BT40               \n",
      " TREMBL Accessions Interactor B     | B7Z4V9               \n",
      " REFSEQ Accessions Interactor B     | NP_570122|NP_0011... \n",
      " Ontology Term IDs                  | -                    \n",
      " Ontology Term Names                | -                    \n",
      " Ontology Term Categories           | -                    \n",
      " Ontology Term Qualifier IDs        | -                    \n",
      " Ontology Term Qualifier Names      | -                    \n",
      " Ontology Term Types                | -                    \n",
      " Organism Name Interactor A         | Homo sapiens         \n",
      " Organism Name Interactor B         | Homo sapiens         \n",
      " conteo_de_publicaciones            | 3                    \n",
      "-RECORD 2--------------------------------------------------\n",
      " #tax_id                            | 9606                 \n",
      " gene_id                            | 23                   \n",
      " accn.vers2                         | -                    \n",
      " name3                              | -                    \n",
      " keyphrase                          | -                    \n",
      " tax_id                             | 9606                 \n",
      " interactant_id                     | 351                  \n",
      " interactant_id_type                | GeneID               \n",
      " accn.vers8                         | -                    \n",
      " name9                              | -                    \n",
      " complex_id                         | -                    \n",
      " complex_id_type                    | -                    \n",
      " complex_name                       | -                    \n",
      " pubmed_id_list                     | 21244100,21832049    \n",
      " last_mod                           | 2018-08-05 12:11:00  \n",
      " generif_text                       | Reconstituted Com... \n",
      " interaction_id                     | 106848               \n",
      " interaction_id_type                | BioGRID              \n",
      " #BioGRID Interaction ID            | 738036               \n",
      " Entrez Gene Interactor A           | 23                   \n",
      " Entrez Gene Interactor B           | 351                  \n",
      " BioGRID ID Interactor A            | 106541               \n",
      " BioGRID ID Interactor B            | 106848               \n",
      " Systematic Name Interactor A       | DADB-129D20.7        \n",
      " Systematic Name Interactor B       | -                    \n",
      " Official Symbol Interactor A       | ABCF1                \n",
      " Official Symbol Interactor B       | APP                  \n",
      " Synonyms Interactor A              | ABC27|ABC50          \n",
      " Synonyms Interactor B              | AAA|ABETA|ABPP|AD... \n",
      " Experimental System                | Reconstituted Com... \n",
      " Experimental System Type           | physical             \n",
      " Author                             | Olah J (2011)        \n",
      " Publication Source                 | PUBMED:21832049      \n",
      " Organism ID Interactor A           | 9606                 \n",
      " Organism ID Interactor B           | 9606                 \n",
      " Throughput                         | High Throughput      \n",
      " Score                              | -                    \n",
      " Modification                       | -                    \n",
      " Qualifications                     | -                    \n",
      " Tags                               | -                    \n",
      " Source Database                    | BIOGRID              \n",
      " SWISS-PROT Accessions Interactor A | Q8NE71               \n",
      " TREMBL Accessions Interactor A     | Q2L6I2               \n",
      " REFSEQ Accessions Interactor A     | NP_001020262|NP_0... \n",
      " SWISS-PROT Accessions Interactor B | P05067               \n",
      " TREMBL Accessions Interactor B     | B4DGD0|E9PG40|B4DJT9 \n",
      " REFSEQ Accessions Interactor B     | NP_958817|NP_9588... \n",
      " Ontology Term IDs                  | -                    \n",
      " Ontology Term Names                | -                    \n",
      " Ontology Term Categories           | -                    \n",
      " Ontology Term Qualifier IDs        | -                    \n",
      " Ontology Term Qualifier Names      | -                    \n",
      " Ontology Term Types                | -                    \n",
      " Organism Name Interactor A         | Homo sapiens         \n",
      " Organism Name Interactor B         | Homo sapiens         \n",
      " conteo_de_publicaciones            | 2                    \n",
      "only showing top 3 rows\n",
      "\n"
     ]
    }
   ],
   "source": [
    "df_filtrado.show(3, vertical = True)"
   ]
  },
  {
   "cell_type": "code",
   "execution_count": 27,
   "id": "3c9fadc4",
   "metadata": {},
   "outputs": [
    {
     "name": "stdout",
     "output_type": "stream",
     "text": [
      "-RECORD 0--------------------------------------------------\n",
      " #BioGRID Interaction ID            | 2260538              \n",
      " Entrez Gene Interactor A           | 2                    \n",
      " Entrez Gene Interactor B           | 56983                \n",
      " BioGRID ID Interactor A            | 106524               \n",
      " BioGRID ID Interactor B            | 121300               \n",
      " Systematic Name Interactor A       | -                    \n",
      " Systematic Name Interactor B       | MDS010               \n",
      " Official Symbol Interactor A       | A2M                  \n",
      " Official Symbol Interactor B       | POGLUT1              \n",
      " Synonyms Interactor A              | A2MD|CPAMD5|FWP00... \n",
      " Synonyms Interactor B              | C3orf9|CLP46|KDEL... \n",
      " Experimental System                | Affinity Capture-MS  \n",
      " Experimental System Type           | physical             \n",
      " Author                             | Huttlin EL (2017)    \n",
      " Publication Source                 | PUBMED:28514442      \n",
      " Organism ID Interactor A           | 9606                 \n",
      " Organism ID Interactor B           | 9606                 \n",
      " Throughput                         | High Throughput      \n",
      " Score                              | 0.885331359          \n",
      " Modification                       | -                    \n",
      " Qualifications                     | BioPlex 2.0 HEK 2... \n",
      " Tags                               | -                    \n",
      " Source Database                    | BIOGRID              \n",
      " SWISS-PROT Accessions Interactor A | P01023               \n",
      " TREMBL Accessions Interactor A     | -                    \n",
      " REFSEQ Accessions Interactor A     | NP_000005            \n",
      " SWISS-PROT Accessions Interactor B | Q8NBL1               \n",
      " TREMBL Accessions Interactor B     | B4DJ97               \n",
      " REFSEQ Accessions Interactor B     | NP_689518            \n",
      " Ontology Term IDs                  | -                    \n",
      " Ontology Term Names                | -                    \n",
      " Ontology Term Categories           | -                    \n",
      " Ontology Term Qualifier IDs        | -                    \n",
      " Ontology Term Qualifier Names      | -                    \n",
      " Ontology Term Types                | -                    \n",
      " Organism Name Interactor A         | Homo sapiens         \n",
      " Organism Name Interactor B         | Homo sapiens         \n",
      "-RECORD 1--------------------------------------------------\n",
      " #BioGRID Interaction ID            | 3062697              \n",
      " Entrez Gene Interactor A           | 2                    \n",
      " Entrez Gene Interactor B           | 56983                \n",
      " BioGRID ID Interactor A            | 106524               \n",
      " BioGRID ID Interactor B            | 121300               \n",
      " Systematic Name Interactor A       | -                    \n",
      " Systematic Name Interactor B       | MDS010               \n",
      " Official Symbol Interactor A       | A2M                  \n",
      " Official Symbol Interactor B       | POGLUT1              \n",
      " Synonyms Interactor A              | A2MD|CPAMD5|FWP00... \n",
      " Synonyms Interactor B              | C3orf9|CLP46|KDEL... \n",
      " Experimental System                | Affinity Capture-MS  \n",
      " Experimental System Type           | physical             \n",
      " Author                             | Huttlin EL (2021)    \n",
      " Publication Source                 | PUBMED:33961781      \n",
      " Organism ID Interactor A           | 9606                 \n",
      " Organism ID Interactor B           | 9606                 \n",
      " Throughput                         | High Throughput      \n",
      " Score                              | 0.865483816          \n",
      " Modification                       | -                    \n",
      " Qualifications                     | BioPlex 3.0 HEK 2... \n",
      " Tags                               | -                    \n",
      " Source Database                    | BIOGRID              \n",
      " SWISS-PROT Accessions Interactor A | P01023               \n",
      " TREMBL Accessions Interactor A     | -                    \n",
      " REFSEQ Accessions Interactor A     | NP_000005            \n",
      " SWISS-PROT Accessions Interactor B | Q8NBL1               \n",
      " TREMBL Accessions Interactor B     | B4DJ97               \n",
      " REFSEQ Accessions Interactor B     | NP_689518            \n",
      " Ontology Term IDs                  | -                    \n",
      " Ontology Term Names                | -                    \n",
      " Ontology Term Categories           | -                    \n",
      " Ontology Term Qualifier IDs        | -                    \n",
      " Ontology Term Qualifier Names      | -                    \n",
      " Ontology Term Types                | -                    \n",
      " Organism Name Interactor A         | Homo sapiens         \n",
      " Organism Name Interactor B         | Homo sapiens         \n",
      "\n"
     ]
    }
   ],
   "source": [
    "df_homo_sapiens.where( (col('Entrez Gene Interactor A') == '2' ) & (col('Entrez Gene Interactor B') == '56983' ) ).show(vertical = True)"
   ]
  },
  {
   "cell_type": "code",
   "execution_count": 28,
   "id": "2b7ce765",
   "metadata": {},
   "outputs": [],
   "source": [
    "# En la de Biogrid hay un registro para cada publicación, mientras que en la de interactions las publicaciones están en una lista."
   ]
  },
  {
   "cell_type": "code",
   "execution_count": 29,
   "id": "5d31df25",
   "metadata": {},
   "outputs": [
    {
     "ename": "ValueError",
     "evalue": "No records found in handle",
     "output_type": "error",
     "traceback": [
      "\u001b[1;31m---------------------------------------------------------------------------\u001b[0m",
      "\u001b[1;31mValueError\u001b[0m                                Traceback (most recent call last)",
      "Cell \u001b[1;32mIn[29], line 19\u001b[0m\n\u001b[0;32m     16\u001b[0m identificador_gene \u001b[38;5;241m=\u001b[39m \u001b[38;5;124m\"\u001b[39m\u001b[38;5;124m2\u001b[39m\u001b[38;5;124m\"\u001b[39m\n\u001b[0;32m     18\u001b[0m \u001b[38;5;66;03m# Obtener y mostrar la secuencia de nucleótidos\u001b[39;00m\n\u001b[1;32m---> 19\u001b[0m secuencia \u001b[38;5;241m=\u001b[39m \u001b[43mobtener_secuencia_nucleotidos\u001b[49m\u001b[43m(\u001b[49m\u001b[43midentificador_gene\u001b[49m\u001b[43m)\u001b[49m\n\u001b[0;32m     20\u001b[0m \u001b[38;5;28mprint\u001b[39m(\u001b[38;5;124m\"\u001b[39m\u001b[38;5;124mSecuencia de nucleótidos:\u001b[39m\u001b[38;5;124m\"\u001b[39m)\n\u001b[0;32m     21\u001b[0m \u001b[38;5;28mprint\u001b[39m(secuencia)\n",
      "Cell \u001b[1;32mIn[29], line 7\u001b[0m, in \u001b[0;36mobtener_secuencia_nucleotidos\u001b[1;34m(identificador_gene)\u001b[0m\n\u001b[0;32m      5\u001b[0m Entrez\u001b[38;5;241m.\u001b[39memail \u001b[38;5;241m=\u001b[39m \u001b[38;5;124m\"\u001b[39m\u001b[38;5;124mgcanomartin@alumni.unav.es\u001b[39m\u001b[38;5;124m\"\u001b[39m  \u001b[38;5;66;03m# Es importante proporcionar tu correo electrónico a NCBI\u001b[39;00m\n\u001b[0;32m      6\u001b[0m handle \u001b[38;5;241m=\u001b[39m Entrez\u001b[38;5;241m.\u001b[39mefetch(db\u001b[38;5;241m=\u001b[39m\u001b[38;5;124m\"\u001b[39m\u001b[38;5;124mgene\u001b[39m\u001b[38;5;124m\"\u001b[39m, \u001b[38;5;28mid\u001b[39m\u001b[38;5;241m=\u001b[39midentificador_gene, rettype\u001b[38;5;241m=\u001b[39m\u001b[38;5;124m\"\u001b[39m\u001b[38;5;124mgb\u001b[39m\u001b[38;5;124m\"\u001b[39m, retmode\u001b[38;5;241m=\u001b[39m\u001b[38;5;124m\"\u001b[39m\u001b[38;5;124mtext\u001b[39m\u001b[38;5;124m\"\u001b[39m)\n\u001b[1;32m----> 7\u001b[0m gene_record \u001b[38;5;241m=\u001b[39m \u001b[43mSeqIO\u001b[49m\u001b[38;5;241;43m.\u001b[39;49m\u001b[43mread\u001b[49m\u001b[43m(\u001b[49m\u001b[43mhandle\u001b[49m\u001b[43m,\u001b[49m\u001b[43m \u001b[49m\u001b[38;5;124;43m\"\u001b[39;49m\u001b[38;5;124;43mgenbank\u001b[39;49m\u001b[38;5;124;43m\"\u001b[39;49m\u001b[43m)\u001b[49m\n\u001b[0;32m      8\u001b[0m handle\u001b[38;5;241m.\u001b[39mclose()\n\u001b[0;32m     10\u001b[0m \u001b[38;5;66;03m# Extraer la secuencia de nucleótidos\u001b[39;00m\n",
      "File \u001b[1;32m~\\anaconda3\\envs\\entorno_virtual\\lib\\site-packages\\Bio\\SeqIO\\__init__.py:664\u001b[0m, in \u001b[0;36mread\u001b[1;34m(handle, format, alphabet)\u001b[0m\n\u001b[0;32m    662\u001b[0m     record \u001b[38;5;241m=\u001b[39m \u001b[38;5;28mnext\u001b[39m(iterator)\n\u001b[0;32m    663\u001b[0m \u001b[38;5;28;01mexcept\u001b[39;00m \u001b[38;5;167;01mStopIteration\u001b[39;00m:\n\u001b[1;32m--> 664\u001b[0m     \u001b[38;5;28;01mraise\u001b[39;00m \u001b[38;5;167;01mValueError\u001b[39;00m(\u001b[38;5;124m\"\u001b[39m\u001b[38;5;124mNo records found in handle\u001b[39m\u001b[38;5;124m\"\u001b[39m) \u001b[38;5;28;01mfrom\u001b[39;00m \u001b[38;5;28;01mNone\u001b[39;00m\n\u001b[0;32m    665\u001b[0m \u001b[38;5;28;01mtry\u001b[39;00m:\n\u001b[0;32m    666\u001b[0m     \u001b[38;5;28mnext\u001b[39m(iterator)\n",
      "\u001b[1;31mValueError\u001b[0m: No records found in handle"
     ]
    }
   ],
   "source": [
    "from Bio import Entrez\n",
    "from Bio import SeqIO\n",
    "\n",
    "def obtener_secuencia_nucleotidos(identificador_gene):\n",
    "    Entrez.email = \"gcanomartin@alumni.unav.es\"  # Es importante proporcionar tu correo electrónico a NCBI\n",
    "    handle = Entrez.efetch(db=\"gene\", id=identificador_gene, rettype=\"gb\", retmode=\"text\")\n",
    "    gene_record = SeqIO.read(handle, \"genbank\")\n",
    "    handle.close()\n",
    "    \n",
    "    # Extraer la secuencia de nucleótidos\n",
    "    secuencia_nucleotidos = gene_record.seq\n",
    "    \n",
    "    return secuencia_nucleotidos\n",
    "\n",
    "# Identificador Entrez Gene del gen de interés\n",
    "identificador_gene = \"2\"\n",
    "\n",
    "# Obtener y mostrar la secuencia de nucleótidos\n",
    "secuencia = obtener_secuencia_nucleotidos(identificador_gene)\n",
    "print(\"Secuencia de nucleótidos:\")\n",
    "print(secuencia)\n"
   ]
  },
  {
   "cell_type": "code",
   "execution_count": null,
   "id": "ab0f82d8",
   "metadata": {},
   "outputs": [],
   "source": []
  }
 ],
 "metadata": {
  "kernelspec": {
   "display_name": "Python 3 (ipykernel)",
   "language": "python",
   "name": "python3"
  },
  "language_info": {
   "codemirror_mode": {
    "name": "ipython",
    "version": 3
   },
   "file_extension": ".py",
   "mimetype": "text/x-python",
   "name": "python",
   "nbconvert_exporter": "python",
   "pygments_lexer": "ipython3",
   "version": "3.9.18"
  }
 },
 "nbformat": 4,
 "nbformat_minor": 5
}
