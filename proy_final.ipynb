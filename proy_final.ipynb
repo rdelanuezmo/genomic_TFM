{
 "cells": [
  {
   "cell_type": "markdown",
   "metadata": {},
   "source": [
    "# Proyecto final de Técnicas de Recogida de Datos.\n",
    "\n",
    "MBDS Universidad de Navarra 2023/2024\n",
    "\n",
    "Paula Sanjuan Campos\n"
   ]
  },
  {
   "cell_type": "markdown",
   "metadata": {},
   "source": [
    "## 1. Introducción\n",
    "\n",
    "En este proyecto se obtendrán datos de artículos científicos de la base de datos *PubMed* a través de su API. *PubMed* es una base de datos líder en la literatura biomédica y de ciencias de la salud, ofrece una gran colección de artículos, libros, revisiones y otros recursos. *PubMed* fue desarrollado y mantenido por el Centro Nacional de Información Biotecnológica (NCBI). A través del proyecto se recopila información detallada sobre artículos científicos (título, palabras claves, fecha de publicación, autores). \n",
    "\n",
    "Se emplea la API de *Entrez* proporcionada por la Biblioteca Nacional de Medicina de EEUU (NLM). Esta API permite acceder a la base de datos de *PubMed*, realizar consultas avanzadas y recuperar información detallada sobre artículos científicos. La API de *Entrez* ofrece una amplia gama de funciones que permiten buscar artículos por términos de búsqueda, filtros, identificadores de artículo, recuperar información específica de artículos, etc.  Las *E-utilities* deE *Entrez* utilizan una sintaxis de URL fija que traduce un conjunto estándar de parámetros de entrada en los valores necesarios para la búsqueda y recuperación de los datos solicitados. \n",
    "\n",
    "Como se demuestra en el código de este proyecto, a través de *Entrez* se tiene acceso a 38 bases de datos que cubren una variedad de datos biomédicos, incluidas secuencias de nucleótidos y proteínas, registros genéticos, estructuras moleculares tridimensionales y literatura biomédica. Este proyecto se centra en la última de ellas, la base de datos de literatura biomédica.\n",
    "\n",
    "Entre las pautas de uso y requisitos para las utilidades de NCBI, destacan que hay un límite de tres solicitudes por segundo. Para mejorar el acceso se requiere una clave API que se puede solicitar en la página de configuración de la cuenta NCBI. Con la calve API se puede acceder a 10 solicitudes por segundo. Por otro lado, para minimizar el número de solicitudes y por lo tanto ser eficiente en la obtención de datos, sobre todo cuando se involucran una gran cantidad de registros, se recomienda usar el Historial de *Entrez*. Con esta herramienta, en lugar de enviar solicitudes individuales para cada registro, los usuarios pueden realizar una sola solicitud para un conjunto de registros y luego trabajar con esos datos de manera iterativa o en lotes. Esto es especialmente útil en el caso de trabajar con miles o incluso millones de registros, ya que reduce significativamente el número de solicitudes individuales necesarias y el tiempo necesario para completar la tarea. Posteriormente, se explica cómo habría que realizar el procedimiento, aunque para este proyecto no he sacado tantos registros, por lo que no lo he utilizado.\n",
    "\n",
    "Por otro lado, otro aspecto importante es la gestión de posibles bloqueos de IP al utilizar los servicios de *Entrez*, para ello, es esecial registrar un correo electrónico. NCBI implementa este proceso para garantizar un uso responsable y equitativo de sus recursos, así como para mantener la integridad y disponibilidad de sus servicios.\n",
    "\n",
    "Una limitación del sistema es que estas utilidades solo son capaces de recuperar datos que ya están en *Entrez*, aunque la mayoría de datos del NCBI lo están. De hecho, la búsqueda que se realiza en el siguiente código recoger artículos del último año y como se puede comprobar en el dataframe, se pueden descargar contenidos de este mismo mes. \n",
    "\n",
    "Respecto al funcionamiento del sistema, los registros de datos que contiene cada base de datos de *Entrez* se reconocen mediante un ID entero llamado UID (identificador único). El núcleo del sistema consiste en la realización de dos tareas: reunir la lista de UID que coincidan con una consulta de texto y recuperar un breve registro resumido llamado Resumen de documento (*DocSum*) para cada UID.\n",
    "\n",
    "\n",
    "El acceso a esta API se realiza a través de la biblioteca de *Biopython*.\n",
    "\n"
   ]
  },
  {
   "cell_type": "markdown",
   "metadata": {},
   "source": [
    "### Documetación de la API de Biopython"
   ]
  },
  {
   "cell_type": "markdown",
   "metadata": {},
   "source": [
    "Documentación de la API de *Biopython*: https://biopython.org/docs/latest/api/index.html"
   ]
  },
  {
   "cell_type": "markdown",
   "metadata": {},
   "source": [
    "Esta API es usada no solo para acceder a datos de artículos científicos, si no también con fines bioinformáticos. El paquete que se usa en el proyecto es ***Bio.Entrez***, concretamente se accede a la base de datos de *PubMed* (literatura biomédica), aunque otras opciones son: *GenBank* (secuencias géneticas), *BLAST* (análisis de secuencias biológicas). \n",
    "\n",
    "Ya que es una API para bioinformática, el resto de paquetes de la API tienen funcionalidades relacionadas con la obtención y manipulación de secuencias de ADN, ARN (*Bio.Seq*), para trabajar con la estructura de las proteínas (*Bio.PDB*), obtener representaciones gráficas de datos biológicos (*Bio.Graphics*), entre otros."
   ]
  },
  {
   "cell_type": "markdown",
   "metadata": {},
   "source": [
    "Las utilidades del paquete de ***Bio.Entrez*** se explican en: \n",
    "- https://www.ncbi.nlm.nih.gov/books/NBK25499/#chapter4\n",
    "- https://biopython.org/docs/latest/api/Bio.Entrez.html"
   ]
  },
  {
   "cell_type": "markdown",
   "metadata": {},
   "source": [
    "## 2. Librerías y módulos"
   ]
  },
  {
   "cell_type": "code",
   "execution_count": 1,
   "metadata": {},
   "outputs": [
    {
     "name": "stdout",
     "output_type": "stream",
     "text": [
      "Requirement already satisfied: biopython in c:\\users\\bysan\\appdata\\local\\programs\\python\\python312\\lib\\site-packages (1.83)"
     ]
    },
    {
     "name": "stderr",
     "output_type": "stream",
     "text": [
      "\n",
      "[notice] A new release of pip is available: 23.2.1 -> 24.0\n",
      "[notice] To update, run: python.exe -m pip install --upgrade pip\n"
     ]
    },
    {
     "name": "stdout",
     "output_type": "stream",
     "text": [
      "\n",
      "Requirement already satisfied: numpy in c:\\users\\bysan\\appdata\\local\\programs\\python\\python312\\lib\\site-packages (from biopython) (1.26.3)\n"
     ]
    }
   ],
   "source": [
    "!pip install biopython\n",
    "# pip install --upgrade biopython\n",
    "# pip uninstall biopython"
   ]
  },
  {
   "cell_type": "markdown",
   "metadata": {},
   "source": [
    "Biopython requiere NumPy (pero se instala automáticamente con Biopython). "
   ]
  },
  {
   "cell_type": "code",
   "execution_count": 2,
   "metadata": {},
   "outputs": [],
   "source": [
    "from Bio import Entrez\n",
    "import pandas as pd"
   ]
  },
  {
   "cell_type": "markdown",
   "metadata": {},
   "source": [
    "Para utilizar la API, se requiere especificar una dirección de correo para la request: `Entrez.email = 'A.N.Other@example.com`. Su propósito es gestionar las solicitudes para garantizar un funcionamiento eficiente y para asegurar el cumplimiento de políticas del uso de la API.  "
   ]
  },
  {
   "cell_type": "code",
   "execution_count": 3,
   "metadata": {},
   "outputs": [],
   "source": [
    "Entrez.email = \"sanjuansanjuanp@gmail.com\""
   ]
  },
  {
   "cell_type": "markdown",
   "metadata": {},
   "source": [
    "## 3. Funciones de la API"
   ]
  },
  {
   "cell_type": "markdown",
   "metadata": {},
   "source": [
    "- `Entrez.email`: dirección del usuario. String sin espacios con una dirección de correo válida. Para más de 3 solicitudes/s se requiere una api_key.  \n",
    "- `Entrez.einfo`: devuelve una lista de las bases de datos disponibles. Si se mete una base de datos como parámetro, por ejemplo, `info = Entrez.einfo(db='pubmed')`, proporciona información detallada de la base de datos (los campos disponibles)\n",
    "- `Entrez.esearch`: realiza la búsqueda en una base de datos determinada, según una query. Devuelve los identificadores de los artículos (lista de UIDs). `handle = Entrez.esearch(db=db, term=term)` La query debe tener los caracteres especiales codificados en URL (' ' = +). Se usa HTTP POST para queries largas. Opcionalmente permite especificar un filtro para la búsqueda basado en la fecha.\n",
    "- `Entrez.esummary`: obtiene los resúmenes de los artículos (*DocSum*) encontrados utilizando los identificadores (parámetro: id). Sin necesidad de recuperar todo el contenido de los artículos, obtiene la información clave.\n",
    "- `Entrez.efetch`: obtener el contenido completo de los artículos (parámetro: id). Para visualizar el resultado tiene la función `.read()`"
   ]
  },
  {
   "cell_type": "markdown",
   "metadata": {},
   "source": [
    "Como he comentado antes, *Entrez* permite almacenar temporalmente conjuntos de UID en un historial. A estos conjuntos se accede a través del servidor *Entrez History*, a partir de la Web se asigna a cada conjunto de UID una clave de consulta y un entorno web. Para utilizar y gestionar el servicio, en primer lugar se obtiene la lista de UIDs con la función `esearch` antes mencionada. Posteriormente, se carga la lista en el servidor del historial con `Entrez.epost`, permite cargar la lista de identificadores en un entorno web determiando (que se identifica con el parámetro `webenv`).  Para acceder a esos registros guardados en el historial, la función `esearch` permite determinar el `webenv` correspondiente como parámetro opcional. \n"
   ]
  },
  {
   "cell_type": "markdown",
   "metadata": {},
   "source": [
    "## 4. Código"
   ]
  },
  {
   "cell_type": "markdown",
   "metadata": {},
   "source": [
    "La funcionalidad del siguiente código consiste en: \n",
    "- Obtener las bases de datos disponibles con esta API.\n",
    "- Obtener información detallada de la base de datos de *PubMed*.\n",
    "- Realizar una búsqueda de *n* artículos a través de una serie de palabras clave y una fecha para obtener los artículos que sean posteriores. \n",
    "- Obtener una lista con sus ID, un diccionario con sus ID, título, Autores, Fecha de publicación, código DOI y link a la página de *PubMed* del artículo. \n",
    "- Seleccionar uno de los artículos resultantes para imprimir su resumen por pantalla. "
   ]
  },
  {
   "cell_type": "code",
   "execution_count": 4,
   "metadata": {},
   "outputs": [],
   "source": [
    "def available_dbs():\n",
    "    # Obtiene las bases de datos disponibles con la API de Entrez\n",
    "    info = Entrez.einfo()\n",
    "    record_info = Entrez.read(info)\n",
    "    databases = record_info[\"DbList\"]\n",
    "    return databases\n",
    "\n",
    "def pubmed_info(): \n",
    "    # Obtiene informacion detallada de la base de datos del PubMed\n",
    "    info = Entrez.einfo(db=\"pubmed\")\n",
    "    record_info = Entrez.read(info)\n",
    "    db_info = record_info['DbInfo']\n",
    "    df_main = {\n",
    "        \"Dbname\": db_info[\"DbName\"],\n",
    "        \"Menuname\": db_info[\"MenuName\"],\n",
    "        \"Description\": db_info[\"Description\"],\n",
    "        \"Dbbuild\": db_info[\"DbBuild\"],\n",
    "        \"Count\": db_info[\"Count\"],\n",
    "        \"Lastupdate\": db_info[\"LastUpdate\"],\n",
    "    }\n",
    "    df_field_list = pd.DataFrame(db_info[\"FieldList\"])\n",
    "    return df_main, df_field_list"
   ]
  },
  {
   "cell_type": "code",
   "execution_count": 5,
   "metadata": {},
   "outputs": [],
   "source": [
    "def search_articles(key_words, date, max_results=10):\n",
    "    # Realiza la búsqueda de artículos en PubMed \n",
    "    term = f\"{key_words}[Title/Abstract] AND {date}[PDAT]\"\n",
    "    search = Entrez.esearch(db=\"pubmed\", term=term, retmax=max_results)\n",
    "    record_search = Entrez.read(search)\n",
    "    return record_search[\"IdList\"]\n",
    "\n",
    "def article_details(id_list):\n",
    "    summary = Entrez.esummary(db=\"pubmed\", id=\",\".join(id_list))\n",
    "    record_summary = Entrez.read(summary)\n",
    "    articles_info = []\n",
    "    for article in record_summary:\n",
    "        article_info = {\n",
    "            \"ID\": article[\"Id\"],\n",
    "            \"Título\": article[\"Title\"],\n",
    "            \"Autores\": article[\"AuthorList\"],\n",
    "            \"Fecha de publicación\": article[\"PubDate\"],\n",
    "            \"DOI\": article.get(\"DOI\", \"No disponible\"),\n",
    "            \"Link PubMed\": f\"https://www.ncbi.nlm.nih.gov/pubmed/{article['Id']}\"\n",
    "        }\n",
    "        articles_info.append(article_info)\n",
    "    return articles_info\n",
    "\n",
    "def article_abstract(article_id):\n",
    "    fetch = Entrez.efetch(db=\"pubmed\", id=article_id, rettype=\"abstract\", retmode=\"text\")\n",
    "    abstract = fetch.read()\n",
    "    print(abstract)\n"
   ]
  },
  {
   "cell_type": "code",
   "execution_count": 6,
   "metadata": {},
   "outputs": [
    {
     "name": "stdout",
     "output_type": "stream",
     "text": [
      "Bases de datos disponibles con Entrez:\n",
      "['pubmed', 'protein', 'nuccore', 'ipg', 'nucleotide', 'structure', 'genome', 'annotinfo', 'assembly', 'bioproject', 'biosample', 'blastdbinfo', 'books', 'cdd', 'clinvar', 'gap', 'gapplus', 'grasp', 'dbvar', 'gene', 'gds', 'geoprofiles', 'medgen', 'mesh', 'nlmcatalog', 'omim', 'orgtrack', 'pmc', 'popset', 'proteinclusters', 'pcassay', 'protfam', 'pccompound', 'pcsubstance', 'seqannot', 'snp', 'sra', 'taxonomy', 'biocollections', 'gtr']\n",
      "--------------------\n",
      "Información principal de PubMed:\n",
      " {'Dbname': 'pubmed', 'Menuname': 'PubMed', 'Description': 'PubMed bibliographic record', 'Dbbuild': 'Build-2024.02.10.23.59', 'Count': '36825504', 'Lastupdate': '2024/02/10 23:59'}\n",
      "\n",
      "Información de los campos  de la base de datos:\n",
      "\n"
     ]
    },
    {
     "data": {
      "text/html": [
       "<div>\n",
       "<style scoped>\n",
       "    .dataframe tbody tr th:only-of-type {\n",
       "        vertical-align: middle;\n",
       "    }\n",
       "\n",
       "    .dataframe tbody tr th {\n",
       "        vertical-align: top;\n",
       "    }\n",
       "\n",
       "    .dataframe thead th {\n",
       "        text-align: right;\n",
       "    }\n",
       "</style>\n",
       "<table border=\"1\" class=\"dataframe\">\n",
       "  <thead>\n",
       "    <tr style=\"text-align: right;\">\n",
       "      <th></th>\n",
       "      <th>Name</th>\n",
       "      <th>FullName</th>\n",
       "      <th>Description</th>\n",
       "      <th>TermCount</th>\n",
       "      <th>IsDate</th>\n",
       "      <th>IsNumerical</th>\n",
       "      <th>SingleToken</th>\n",
       "      <th>Hierarchy</th>\n",
       "      <th>IsHidden</th>\n",
       "    </tr>\n",
       "  </thead>\n",
       "  <tbody>\n",
       "    <tr>\n",
       "      <th>0</th>\n",
       "      <td>ALL</td>\n",
       "      <td>All Fields</td>\n",
       "      <td>All terms from all searchable fields</td>\n",
       "      <td></td>\n",
       "      <td>N</td>\n",
       "      <td>N</td>\n",
       "      <td>N</td>\n",
       "      <td>N</td>\n",
       "      <td>N</td>\n",
       "    </tr>\n",
       "    <tr>\n",
       "      <th>1</th>\n",
       "      <td>UID</td>\n",
       "      <td>UID</td>\n",
       "      <td>Unique number assigned to publication</td>\n",
       "      <td></td>\n",
       "      <td>N</td>\n",
       "      <td>Y</td>\n",
       "      <td>Y</td>\n",
       "      <td>N</td>\n",
       "      <td>Y</td>\n",
       "    </tr>\n",
       "    <tr>\n",
       "      <th>2</th>\n",
       "      <td>FILT</td>\n",
       "      <td>Filter</td>\n",
       "      <td>Limits the records</td>\n",
       "      <td></td>\n",
       "      <td>N</td>\n",
       "      <td>N</td>\n",
       "      <td>Y</td>\n",
       "      <td>N</td>\n",
       "      <td>N</td>\n",
       "    </tr>\n",
       "    <tr>\n",
       "      <th>3</th>\n",
       "      <td>TITL</td>\n",
       "      <td>Title</td>\n",
       "      <td>Words in title of publication</td>\n",
       "      <td></td>\n",
       "      <td>N</td>\n",
       "      <td>N</td>\n",
       "      <td>N</td>\n",
       "      <td>N</td>\n",
       "      <td>N</td>\n",
       "    </tr>\n",
       "    <tr>\n",
       "      <th>4</th>\n",
       "      <td>MESH</td>\n",
       "      <td>MeSH Terms</td>\n",
       "      <td>Medical Subject Headings assigned to publication</td>\n",
       "      <td></td>\n",
       "      <td>N</td>\n",
       "      <td>N</td>\n",
       "      <td>Y</td>\n",
       "      <td>Y</td>\n",
       "      <td>N</td>\n",
       "    </tr>\n",
       "  </tbody>\n",
       "</table>\n",
       "</div>"
      ],
      "text/plain": [
       "   Name    FullName                                       Description  \\\n",
       "0   ALL  All Fields              All terms from all searchable fields   \n",
       "1   UID         UID             Unique number assigned to publication   \n",
       "2  FILT      Filter                                Limits the records   \n",
       "3  TITL       Title                     Words in title of publication   \n",
       "4  MESH  MeSH Terms  Medical Subject Headings assigned to publication   \n",
       "\n",
       "  TermCount IsDate IsNumerical SingleToken Hierarchy IsHidden  \n",
       "0                N           N           N         N        N  \n",
       "1                N           Y           Y         N        Y  \n",
       "2                N           N           Y         N        N  \n",
       "3                N           N           N         N        N  \n",
       "4                N           N           Y         Y        N  "
      ]
     },
     "execution_count": 6,
     "metadata": {},
     "output_type": "execute_result"
    }
   ],
   "source": [
    "# Obtener bases de datos disponibles\n",
    "print(\"Bases de datos disponibles con Entrez:\")\n",
    "print(available_dbs())\n",
    "print('-'*20)\n",
    "\n",
    "# Obtener información detallada de PubMed\n",
    "df_main, df_field_list= pubmed_info()\n",
    "print('Información principal de PubMed:\\n', df_main)\n",
    "print('\\nInformación de los campos  de la base de datos:\\n')\n",
    "df_field_list.head()"
   ]
  },
  {
   "cell_type": "code",
   "execution_count": 7,
   "metadata": {},
   "outputs": [
    {
     "name": "stdout",
     "output_type": "stream",
     "text": [
      "\n",
      "Búsqueda de artículos sobre '['cancer', 'brain']' publicados a partir de 2023:\n",
      "IDs de los artículos encontrados: ['38328712', '38303306', '38260227', '38201564', '38187734', '38175350', '38149244', '38145439', '38142850', '38131219']\n"
     ]
    }
   ],
   "source": [
    "# Realizar una búsqueda de artículos\n",
    "key_words = [\"cancer\", \"brain\"]\n",
    "date = \"2023\"\n",
    "print(f\"\\nBúsqueda de artículos sobre '{key_words}' publicados a partir de {date}:\")\n",
    "id_list = search_articles(key_words, date)\n",
    "print(\"IDs de los artículos encontrados:\", id_list)"
   ]
  },
  {
   "cell_type": "code",
   "execution_count": 8,
   "metadata": {},
   "outputs": [
    {
     "name": "stdout",
     "output_type": "stream",
     "text": [
      "\n",
      "Información detallada de los artículos:\n"
     ]
    },
    {
     "data": {
      "text/html": [
       "<div>\n",
       "<style scoped>\n",
       "    .dataframe tbody tr th:only-of-type {\n",
       "        vertical-align: middle;\n",
       "    }\n",
       "\n",
       "    .dataframe tbody tr th {\n",
       "        vertical-align: top;\n",
       "    }\n",
       "\n",
       "    .dataframe thead th {\n",
       "        text-align: right;\n",
       "    }\n",
       "</style>\n",
       "<table border=\"1\" class=\"dataframe\">\n",
       "  <thead>\n",
       "    <tr style=\"text-align: right;\">\n",
       "      <th></th>\n",
       "      <th>ID</th>\n",
       "      <th>Título</th>\n",
       "      <th>Autores</th>\n",
       "      <th>Fecha de publicación</th>\n",
       "      <th>DOI</th>\n",
       "      <th>Link PubMed</th>\n",
       "    </tr>\n",
       "  </thead>\n",
       "  <tbody>\n",
       "    <tr>\n",
       "      <th>0</th>\n",
       "      <td>38328712</td>\n",
       "      <td>Experimental models for cancer brain metastasis.</td>\n",
       "      <td>[Liu Z, Dong S, Liu M, Liu Y, Ye Z, Zeng J, Ya...</td>\n",
       "      <td>2024 Jan</td>\n",
       "      <td>10.1016/j.cpt.2023.10.005</td>\n",
       "      <td>https://www.ncbi.nlm.nih.gov/pubmed/38328712</td>\n",
       "    </tr>\n",
       "    <tr>\n",
       "      <th>1</th>\n",
       "      <td>38303306</td>\n",
       "      <td>[A Case of Breast Cancer Brain Metastases Succ...</td>\n",
       "      <td>[Hikino H, Otani A, Makino Y, Murata Y]</td>\n",
       "      <td>2023 Dec</td>\n",
       "      <td>No disponible</td>\n",
       "      <td>https://www.ncbi.nlm.nih.gov/pubmed/38303306</td>\n",
       "    </tr>\n",
       "    <tr>\n",
       "      <th>2</th>\n",
       "      <td>38260227</td>\n",
       "      <td>Effects of Ataxia-Telangiectasia Mutated Varia...</td>\n",
       "      <td>[Floyd W, Carpenter D, Vaios E, Shenker R, Hen...</td>\n",
       "      <td>2024 Jan</td>\n",
       "      <td>10.1016/j.adro.2023.101320</td>\n",
       "      <td>https://www.ncbi.nlm.nih.gov/pubmed/38260227</td>\n",
       "    </tr>\n",
       "    <tr>\n",
       "      <th>3</th>\n",
       "      <td>38201564</td>\n",
       "      <td>Stereotactic Radiosurgery for Women Older than...</td>\n",
       "      <td>[Upadhyay R, Klamer BG, Perlow HK, White JR, B...</td>\n",
       "      <td>2023 Dec 27</td>\n",
       "      <td>10.3390/cancers16010137</td>\n",
       "      <td>https://www.ncbi.nlm.nih.gov/pubmed/38201564</td>\n",
       "    </tr>\n",
       "    <tr>\n",
       "      <th>4</th>\n",
       "      <td>38187734</td>\n",
       "      <td>Discovery of novel brain permeable human ACSS2...</td>\n",
       "      <td>[Esquea E, Ciraku L, Young RG, Merzy J, Talari...</td>\n",
       "      <td>2023 Dec 23</td>\n",
       "      <td>10.1101/2023.12.22.573073</td>\n",
       "      <td>https://www.ncbi.nlm.nih.gov/pubmed/38187734</td>\n",
       "    </tr>\n",
       "    <tr>\n",
       "      <th>5</th>\n",
       "      <td>38175350</td>\n",
       "      <td>Breast Cancer Brain Metastases: Achilles' Heel...</td>\n",
       "      <td>[Ferraro E, Seidman AD]</td>\n",
       "      <td>2023</td>\n",
       "      <td>10.1007/978-3-031-33602-7_11</td>\n",
       "      <td>https://www.ncbi.nlm.nih.gov/pubmed/38175350</td>\n",
       "    </tr>\n",
       "    <tr>\n",
       "      <th>6</th>\n",
       "      <td>38149244</td>\n",
       "      <td>Unlocking molecular mechanisms and identifying...</td>\n",
       "      <td>[Najjary S, de Koning W, Kros JM, Mustafa DAM]</td>\n",
       "      <td>2023</td>\n",
       "      <td>10.3389/fimmu.2023.1305644</td>\n",
       "      <td>https://www.ncbi.nlm.nih.gov/pubmed/38149244</td>\n",
       "    </tr>\n",
       "    <tr>\n",
       "      <th>7</th>\n",
       "      <td>38145439</td>\n",
       "      <td>Air quality and cancer risk in the All of Us R...</td>\n",
       "      <td>[Craver A, Luo J, Kibriya MG, Randorf N, Bahl ...</td>\n",
       "      <td>2023 Dec 25</td>\n",
       "      <td>10.1007/s10552-023-01823-7</td>\n",
       "      <td>https://www.ncbi.nlm.nih.gov/pubmed/38145439</td>\n",
       "    </tr>\n",
       "    <tr>\n",
       "      <th>8</th>\n",
       "      <td>38142850</td>\n",
       "      <td>Microtubule destabilising activity of selected...</td>\n",
       "      <td>[Perużyńska M, Birger R, Piotrowska K, Kwiecie...</td>\n",
       "      <td>2024 Feb 5</td>\n",
       "      <td>10.1016/j.ejphar.2023.176308</td>\n",
       "      <td>https://www.ncbi.nlm.nih.gov/pubmed/38142850</td>\n",
       "    </tr>\n",
       "    <tr>\n",
       "      <th>9</th>\n",
       "      <td>38131219</td>\n",
       "      <td>Evaluation of brain metastasis edema in breast...</td>\n",
       "      <td>[Stojkova M, Behme D, Barajas Ordonez F, Chris...</td>\n",
       "      <td>2023 Dec 22</td>\n",
       "      <td>10.1177/19714009231224443</td>\n",
       "      <td>https://www.ncbi.nlm.nih.gov/pubmed/38131219</td>\n",
       "    </tr>\n",
       "  </tbody>\n",
       "</table>\n",
       "</div>"
      ],
      "text/plain": [
       "         ID                                             Título  \\\n",
       "0  38328712   Experimental models for cancer brain metastasis.   \n",
       "1  38303306  [A Case of Breast Cancer Brain Metastases Succ...   \n",
       "2  38260227  Effects of Ataxia-Telangiectasia Mutated Varia...   \n",
       "3  38201564  Stereotactic Radiosurgery for Women Older than...   \n",
       "4  38187734  Discovery of novel brain permeable human ACSS2...   \n",
       "5  38175350  Breast Cancer Brain Metastases: Achilles' Heel...   \n",
       "6  38149244  Unlocking molecular mechanisms and identifying...   \n",
       "7  38145439  Air quality and cancer risk in the All of Us R...   \n",
       "8  38142850  Microtubule destabilising activity of selected...   \n",
       "9  38131219  Evaluation of brain metastasis edema in breast...   \n",
       "\n",
       "                                             Autores Fecha de publicación  \\\n",
       "0  [Liu Z, Dong S, Liu M, Liu Y, Ye Z, Zeng J, Ya...             2024 Jan   \n",
       "1            [Hikino H, Otani A, Makino Y, Murata Y]             2023 Dec   \n",
       "2  [Floyd W, Carpenter D, Vaios E, Shenker R, Hen...             2024 Jan   \n",
       "3  [Upadhyay R, Klamer BG, Perlow HK, White JR, B...          2023 Dec 27   \n",
       "4  [Esquea E, Ciraku L, Young RG, Merzy J, Talari...          2023 Dec 23   \n",
       "5                            [Ferraro E, Seidman AD]                 2023   \n",
       "6     [Najjary S, de Koning W, Kros JM, Mustafa DAM]                 2023   \n",
       "7  [Craver A, Luo J, Kibriya MG, Randorf N, Bahl ...          2023 Dec 25   \n",
       "8  [Perużyńska M, Birger R, Piotrowska K, Kwiecie...           2024 Feb 5   \n",
       "9  [Stojkova M, Behme D, Barajas Ordonez F, Chris...          2023 Dec 22   \n",
       "\n",
       "                            DOI                                   Link PubMed  \n",
       "0     10.1016/j.cpt.2023.10.005  https://www.ncbi.nlm.nih.gov/pubmed/38328712  \n",
       "1                 No disponible  https://www.ncbi.nlm.nih.gov/pubmed/38303306  \n",
       "2    10.1016/j.adro.2023.101320  https://www.ncbi.nlm.nih.gov/pubmed/38260227  \n",
       "3       10.3390/cancers16010137  https://www.ncbi.nlm.nih.gov/pubmed/38201564  \n",
       "4     10.1101/2023.12.22.573073  https://www.ncbi.nlm.nih.gov/pubmed/38187734  \n",
       "5  10.1007/978-3-031-33602-7_11  https://www.ncbi.nlm.nih.gov/pubmed/38175350  \n",
       "6    10.3389/fimmu.2023.1305644  https://www.ncbi.nlm.nih.gov/pubmed/38149244  \n",
       "7    10.1007/s10552-023-01823-7  https://www.ncbi.nlm.nih.gov/pubmed/38145439  \n",
       "8  10.1016/j.ejphar.2023.176308  https://www.ncbi.nlm.nih.gov/pubmed/38142850  \n",
       "9     10.1177/19714009231224443  https://www.ncbi.nlm.nih.gov/pubmed/38131219  "
      ]
     },
     "execution_count": 8,
     "metadata": {},
     "output_type": "execute_result"
    }
   ],
   "source": [
    "# Obtener información detallada de los artículos en un dataframe\n",
    "articles_info = article_details(id_list)\n",
    "print(\"\\nInformación detallada de los artículos:\")\n",
    "df = pd.DataFrame(articles_info)\n",
    "df"
   ]
  },
  {
   "cell_type": "code",
   "execution_count": 9,
   "metadata": {},
   "outputs": [
    {
     "name": "stdout",
     "output_type": "stream",
     "text": [
      "\n",
      "Resumen del primer artículo encontrado:\n",
      "1. Cancer Pathog Ther. 2023 Oct 29;2(1):15-23. doi: 10.1016/j.cpt.2023.10.005. \n",
      "eCollection 2024 Jan.\n",
      "\n",
      "Experimental models for cancer brain metastasis.\n",
      "\n",
      "Liu Z(1), Dong S(2), Liu M(1), Liu Y(1), Ye Z(1), Zeng J(3), Yao M(1).\n",
      "\n",
      "Author information:\n",
      "(1)Guangzhou Institute of Respiratory Disease, The First Affiliated Hospital of \n",
      "Guangzhou Medical University, China State Key Laboratory of Respiratory Disease, \n",
      "Guangzhou, Guangdong 510182, China.\n",
      "(2)Department of Medical Genetics and Cell Biology, GMU-GIBH Joint School of \n",
      "Life Sciences, Guangzhou Medical University, Guangzhou, Guangdong 511436, China.\n",
      "(3)Department of Microbiology, Immunology, and Cancer Biology, University of \n",
      "Virginia Health System, Charlottesville, VA 22908, USA.\n",
      "\n",
      "Brain metastases are a leading cause of cancer-related mortality. However, \n",
      "progress in their treatment has been limited over the past decade, due to an \n",
      "incomplete understanding of the underlying biological mechanisms. Employing \n",
      "accurate in vitro and in vivo models to recapitulate the complexities of brain \n",
      "metastasis offers the most promising approach to unravel the intricate cellular \n",
      "and physiological processes involved. Here, we present a comprehensive review of \n",
      "the currently accessible models for studying brain metastasis. We introduce a \n",
      "diverse array of in vitro and in vivo models, including cultured cells using the \n",
      "Transwell system, organoids, microfluidic models, syngeneic models, xenograft \n",
      "models, and genetically engineered models. We have also provided a concise \n",
      "summary of the merits and limitations inherent to each model while identifying \n",
      "the optimal contexts for their effective utilization. This review serves as a \n",
      "comprehensive resource, aiding researchers in making well-informed decisions \n",
      "regarding model selection that align with specific research questions.\n",
      "\n",
      "© 2023 The Authors.\n",
      "\n",
      "DOI: 10.1016/j.cpt.2023.10.005\n",
      "PMCID: PMC10846332\n",
      "PMID: 38328712\n",
      "\n",
      "Conflict of interest statement: None.\n"
     ]
    }
   ],
   "source": [
    "# Seleccionar un artículo para imprimir su resumen\n",
    "if id_list:\n",
    "    article_id = id_list[0]\n",
    "    print(\"\\nResumen del primer artículo encontrado:\")\n",
    "    article_abstract(article_id)\n",
    "else:\n",
    "    print(\"\\nNo se encontraron artículos.\")"
   ]
  },
  {
   "cell_type": "markdown",
   "metadata": {},
   "source": [
    "## 5. Conclusión\n",
    "\n",
    "La elección de utilizar la API de *PubMed* para obtener datos surgió de mi especial interés en el ámbito biomédico y mi experiencia previa con la plataforma para la documentación de otros proyectos de investigación. Sin embargo, no estaba al tanto de la posibilidad de acceder a los datos a través de una API. Esta decisión no solo ha ampliado mis habilidades técnicas, sino que también me ha revelado la utilidad y relevancia de esta herramienta en la bioinformática. Me ha resultado muy enriquecedor este proyecto ya que no conocía las técncias de scraping en general antes de realizar la asignatura, y además, ha sido una grata sorpresa que el acceso a estos bancos de información sea público, creo que es crucial para el avance en el sector de la investigación. "
   ]
  }
 ],
 "metadata": {
  "kernelspec": {
   "display_name": "venv",
   "language": "python",
   "name": "python3"
  },
  "language_info": {
   "codemirror_mode": {
    "name": "ipython",
    "version": 3
   },
   "file_extension": ".py",
   "mimetype": "text/x-python",
   "name": "python",
   "nbconvert_exporter": "python",
   "pygments_lexer": "ipython3",
   "version": "3.12.1"
  }
 },
 "nbformat": 4,
 "nbformat_minor": 2
}
